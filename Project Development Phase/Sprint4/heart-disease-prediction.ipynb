{
 "cells": [
  {
   "cell_type": "markdown",
   "id": "d748db2a",
   "metadata": {
    "papermill": {
     "duration": 0.008814,
     "end_time": "2022-09-06T21:02:01.643349",
     "exception": false,
     "start_time": "2022-09-06T21:02:01.634535",
     "status": "completed"
    },
    "tags": []
   },
   "source": [
    "# Import Data and Libraries"
   ]
  },
  {
   "cell_type": "code",
   "execution_count": 1,
   "id": "e320723f",
   "metadata": {
    "_cell_guid": "b1076dfc-b9ad-4769-8c92-a6c4dae69d19",
    "_uuid": "8f2839f25d086af736a60e9eeb907d3b93b6e0e5",
    "execution": {
     "iopub.execute_input": "2022-09-06T21:02:01.661302Z",
     "iopub.status.busy": "2022-09-06T21:02:01.660758Z",
     "iopub.status.idle": "2022-09-06T21:02:02.998278Z",
     "shell.execute_reply": "2022-09-06T21:02:02.996739Z"
    },
    "papermill": {
     "duration": 1.351117,
     "end_time": "2022-09-06T21:02:03.002210",
     "exception": false,
     "start_time": "2022-09-06T21:02:01.651093",
     "status": "completed"
    },
    "tags": []
   },
   "outputs": [],
   "source": [
    "import numpy as np # linear algebra\n",
    "import pandas as pd # data processing, CSV file I/O (e.g. pd.read_csv)\n",
    "import matplotlib.pyplot as plt\n",
    "import seaborn as sns\n",
    "import warnings\n",
    "warnings.filterwarnings('ignore')\n",
    "sns.set_style('whitegrid')"
   ]
  },
  {
   "cell_type": "code",
   "execution_count": 2,
   "id": "e9d8ff82",
   "metadata": {
    "execution": {
     "iopub.execute_input": "2022-09-06T21:02:03.021222Z",
     "iopub.status.busy": "2022-09-06T21:02:03.020737Z",
     "iopub.status.idle": "2022-09-06T21:02:03.571787Z",
     "shell.execute_reply": "2022-09-06T21:02:03.570299Z"
    },
    "papermill": {
     "duration": 0.564109,
     "end_time": "2022-09-06T21:02:03.575106",
     "exception": false,
     "start_time": "2022-09-06T21:02:03.010997",
     "status": "completed"
    },
    "tags": []
   },
   "outputs": [],
   "source": [
    "from sklearn.preprocessing import MinMaxScaler\n",
    "from sklearn.metrics import classification_report, confusion_matrix, accuracy_score\n",
    "from sklearn.model_selection import train_test_split\n",
    "from sklearn.ensemble import RandomForestClassifier"
   ]
  },
  {
   "cell_type": "code",
   "execution_count": 3,
   "id": "2f674283",
   "metadata": {
    "execution": {
     "iopub.execute_input": "2022-09-06T21:02:03.592762Z",
     "iopub.status.busy": "2022-09-06T21:02:03.592242Z",
     "iopub.status.idle": "2022-09-06T21:02:03.611902Z",
     "shell.execute_reply": "2022-09-06T21:02:03.610256Z"
    },
    "papermill": {
     "duration": 0.032314,
     "end_time": "2022-09-06T21:02:03.615143",
     "exception": false,
     "start_time": "2022-09-06T21:02:03.582829",
     "status": "completed"
    },
    "tags": []
   },
   "outputs": [],
   "source": [
    "data = pd.read_csv('C:/Users/Asus/Downloads/NT/Heart_Disease_Prediction.csv')"
   ]
  },
  {
   "cell_type": "markdown",
   "id": "30253b94",
   "metadata": {
    "papermill": {
     "duration": 0.007338,
     "end_time": "2022-09-06T21:02:03.630038",
     "exception": false,
     "start_time": "2022-09-06T21:02:03.622700",
     "status": "completed"
    },
    "tags": []
   },
   "source": [
    "# Data Observation"
   ]
  },
  {
   "cell_type": "code",
   "execution_count": 4,
   "id": "3953a6dc",
   "metadata": {
    "execution": {
     "iopub.execute_input": "2022-09-06T21:02:03.647561Z",
     "iopub.status.busy": "2022-09-06T21:02:03.646823Z",
     "iopub.status.idle": "2022-09-06T21:02:03.673624Z",
     "shell.execute_reply": "2022-09-06T21:02:03.672249Z"
    },
    "papermill": {
     "duration": 0.039432,
     "end_time": "2022-09-06T21:02:03.676871",
     "exception": false,
     "start_time": "2022-09-06T21:02:03.637439",
     "status": "completed"
    },
    "tags": []
   },
   "outputs": [
    {
     "data": {
      "text/html": [
       "<div>\n",
       "<style scoped>\n",
       "    .dataframe tbody tr th:only-of-type {\n",
       "        vertical-align: middle;\n",
       "    }\n",
       "\n",
       "    .dataframe tbody tr th {\n",
       "        vertical-align: top;\n",
       "    }\n",
       "\n",
       "    .dataframe thead th {\n",
       "        text-align: right;\n",
       "    }\n",
       "</style>\n",
       "<table border=\"1\" class=\"dataframe\">\n",
       "  <thead>\n",
       "    <tr style=\"text-align: right;\">\n",
       "      <th></th>\n",
       "      <th>Age</th>\n",
       "      <th>Sex</th>\n",
       "      <th>Chest pain type</th>\n",
       "      <th>BP</th>\n",
       "      <th>Cholesterol</th>\n",
       "      <th>FBS over 120</th>\n",
       "      <th>EKG results</th>\n",
       "      <th>Max HR</th>\n",
       "      <th>Exercise angina</th>\n",
       "      <th>ST depression</th>\n",
       "      <th>Slope of ST</th>\n",
       "      <th>Number of vessels fluro</th>\n",
       "      <th>Thallium</th>\n",
       "      <th>Heart Disease</th>\n",
       "    </tr>\n",
       "  </thead>\n",
       "  <tbody>\n",
       "    <tr>\n",
       "      <th>0</th>\n",
       "      <td>70</td>\n",
       "      <td>1</td>\n",
       "      <td>4</td>\n",
       "      <td>130</td>\n",
       "      <td>322</td>\n",
       "      <td>0</td>\n",
       "      <td>2</td>\n",
       "      <td>109</td>\n",
       "      <td>0</td>\n",
       "      <td>2.4</td>\n",
       "      <td>2</td>\n",
       "      <td>3</td>\n",
       "      <td>3</td>\n",
       "      <td>Presence</td>\n",
       "    </tr>\n",
       "    <tr>\n",
       "      <th>1</th>\n",
       "      <td>67</td>\n",
       "      <td>0</td>\n",
       "      <td>3</td>\n",
       "      <td>115</td>\n",
       "      <td>564</td>\n",
       "      <td>0</td>\n",
       "      <td>2</td>\n",
       "      <td>160</td>\n",
       "      <td>0</td>\n",
       "      <td>1.6</td>\n",
       "      <td>2</td>\n",
       "      <td>0</td>\n",
       "      <td>7</td>\n",
       "      <td>Absence</td>\n",
       "    </tr>\n",
       "    <tr>\n",
       "      <th>2</th>\n",
       "      <td>57</td>\n",
       "      <td>1</td>\n",
       "      <td>2</td>\n",
       "      <td>124</td>\n",
       "      <td>261</td>\n",
       "      <td>0</td>\n",
       "      <td>0</td>\n",
       "      <td>141</td>\n",
       "      <td>0</td>\n",
       "      <td>0.3</td>\n",
       "      <td>1</td>\n",
       "      <td>0</td>\n",
       "      <td>7</td>\n",
       "      <td>Presence</td>\n",
       "    </tr>\n",
       "    <tr>\n",
       "      <th>3</th>\n",
       "      <td>64</td>\n",
       "      <td>1</td>\n",
       "      <td>4</td>\n",
       "      <td>128</td>\n",
       "      <td>263</td>\n",
       "      <td>0</td>\n",
       "      <td>0</td>\n",
       "      <td>105</td>\n",
       "      <td>1</td>\n",
       "      <td>0.2</td>\n",
       "      <td>2</td>\n",
       "      <td>1</td>\n",
       "      <td>7</td>\n",
       "      <td>Absence</td>\n",
       "    </tr>\n",
       "    <tr>\n",
       "      <th>4</th>\n",
       "      <td>74</td>\n",
       "      <td>0</td>\n",
       "      <td>2</td>\n",
       "      <td>120</td>\n",
       "      <td>269</td>\n",
       "      <td>0</td>\n",
       "      <td>2</td>\n",
       "      <td>121</td>\n",
       "      <td>1</td>\n",
       "      <td>0.2</td>\n",
       "      <td>1</td>\n",
       "      <td>1</td>\n",
       "      <td>3</td>\n",
       "      <td>Absence</td>\n",
       "    </tr>\n",
       "  </tbody>\n",
       "</table>\n",
       "</div>"
      ],
      "text/plain": [
       "   Age  Sex  Chest pain type   BP  Cholesterol  FBS over 120  EKG results  \\\n",
       "0   70    1                4  130          322             0            2   \n",
       "1   67    0                3  115          564             0            2   \n",
       "2   57    1                2  124          261             0            0   \n",
       "3   64    1                4  128          263             0            0   \n",
       "4   74    0                2  120          269             0            2   \n",
       "\n",
       "   Max HR  Exercise angina  ST depression  Slope of ST  \\\n",
       "0     109                0            2.4            2   \n",
       "1     160                0            1.6            2   \n",
       "2     141                0            0.3            1   \n",
       "3     105                1            0.2            2   \n",
       "4     121                1            0.2            1   \n",
       "\n",
       "   Number of vessels fluro  Thallium Heart Disease  \n",
       "0                        3         3      Presence  \n",
       "1                        0         7       Absence  \n",
       "2                        0         7      Presence  \n",
       "3                        1         7       Absence  \n",
       "4                        1         3       Absence  "
      ]
     },
     "execution_count": 4,
     "metadata": {},
     "output_type": "execute_result"
    }
   ],
   "source": [
    "data.head()"
   ]
  },
  {
   "cell_type": "code",
   "execution_count": 5,
   "id": "2d61b37b",
   "metadata": {
    "execution": {
     "iopub.execute_input": "2022-09-06T21:02:03.694590Z",
     "iopub.status.busy": "2022-09-06T21:02:03.694183Z",
     "iopub.status.idle": "2022-09-06T21:02:03.727334Z",
     "shell.execute_reply": "2022-09-06T21:02:03.726019Z"
    },
    "papermill": {
     "duration": 0.048355,
     "end_time": "2022-09-06T21:02:03.733029",
     "exception": false,
     "start_time": "2022-09-06T21:02:03.684674",
     "status": "completed"
    },
    "tags": []
   },
   "outputs": [
    {
     "name": "stdout",
     "output_type": "stream",
     "text": [
      "<class 'pandas.core.frame.DataFrame'>\n",
      "RangeIndex: 270 entries, 0 to 269\n",
      "Data columns (total 14 columns):\n",
      " #   Column                   Non-Null Count  Dtype  \n",
      "---  ------                   --------------  -----  \n",
      " 0   Age                      270 non-null    int64  \n",
      " 1   Sex                      270 non-null    int64  \n",
      " 2   Chest pain type          270 non-null    int64  \n",
      " 3   BP                       270 non-null    int64  \n",
      " 4   Cholesterol              270 non-null    int64  \n",
      " 5   FBS over 120             270 non-null    int64  \n",
      " 6   EKG results              270 non-null    int64  \n",
      " 7   Max HR                   270 non-null    int64  \n",
      " 8   Exercise angina          270 non-null    int64  \n",
      " 9   ST depression            270 non-null    float64\n",
      " 10  Slope of ST              270 non-null    int64  \n",
      " 11  Number of vessels fluro  270 non-null    int64  \n",
      " 12  Thallium                 270 non-null    int64  \n",
      " 13  Heart Disease            270 non-null    object \n",
      "dtypes: float64(1), int64(12), object(1)\n",
      "memory usage: 29.7+ KB\n"
     ]
    }
   ],
   "source": [
    "data.info()"
   ]
  },
  {
   "cell_type": "code",
   "execution_count": 6,
   "id": "eab950ad",
   "metadata": {
    "execution": {
     "iopub.execute_input": "2022-09-06T21:02:03.751506Z",
     "iopub.status.busy": "2022-09-06T21:02:03.751080Z",
     "iopub.status.idle": "2022-09-06T21:02:03.807988Z",
     "shell.execute_reply": "2022-09-06T21:02:03.806404Z"
    },
    "papermill": {
     "duration": 0.069972,
     "end_time": "2022-09-06T21:02:03.811243",
     "exception": false,
     "start_time": "2022-09-06T21:02:03.741271",
     "status": "completed"
    },
    "tags": []
   },
   "outputs": [
    {
     "data": {
      "text/html": [
       "<div>\n",
       "<style scoped>\n",
       "    .dataframe tbody tr th:only-of-type {\n",
       "        vertical-align: middle;\n",
       "    }\n",
       "\n",
       "    .dataframe tbody tr th {\n",
       "        vertical-align: top;\n",
       "    }\n",
       "\n",
       "    .dataframe thead th {\n",
       "        text-align: right;\n",
       "    }\n",
       "</style>\n",
       "<table border=\"1\" class=\"dataframe\">\n",
       "  <thead>\n",
       "    <tr style=\"text-align: right;\">\n",
       "      <th></th>\n",
       "      <th>Age</th>\n",
       "      <th>Sex</th>\n",
       "      <th>Chest pain type</th>\n",
       "      <th>BP</th>\n",
       "      <th>Cholesterol</th>\n",
       "      <th>FBS over 120</th>\n",
       "      <th>EKG results</th>\n",
       "      <th>Max HR</th>\n",
       "      <th>Exercise angina</th>\n",
       "      <th>ST depression</th>\n",
       "      <th>Slope of ST</th>\n",
       "      <th>Number of vessels fluro</th>\n",
       "      <th>Thallium</th>\n",
       "      <th>Heart Disease</th>\n",
       "    </tr>\n",
       "  </thead>\n",
       "  <tbody>\n",
       "    <tr>\n",
       "      <th>count</th>\n",
       "      <td>270.000000</td>\n",
       "      <td>270.000000</td>\n",
       "      <td>270.000000</td>\n",
       "      <td>270.000000</td>\n",
       "      <td>270.000000</td>\n",
       "      <td>270.000000</td>\n",
       "      <td>270.000000</td>\n",
       "      <td>270.000000</td>\n",
       "      <td>270.000000</td>\n",
       "      <td>270.00000</td>\n",
       "      <td>270.000000</td>\n",
       "      <td>270.000000</td>\n",
       "      <td>270.000000</td>\n",
       "      <td>270</td>\n",
       "    </tr>\n",
       "    <tr>\n",
       "      <th>unique</th>\n",
       "      <td>NaN</td>\n",
       "      <td>NaN</td>\n",
       "      <td>NaN</td>\n",
       "      <td>NaN</td>\n",
       "      <td>NaN</td>\n",
       "      <td>NaN</td>\n",
       "      <td>NaN</td>\n",
       "      <td>NaN</td>\n",
       "      <td>NaN</td>\n",
       "      <td>NaN</td>\n",
       "      <td>NaN</td>\n",
       "      <td>NaN</td>\n",
       "      <td>NaN</td>\n",
       "      <td>2</td>\n",
       "    </tr>\n",
       "    <tr>\n",
       "      <th>top</th>\n",
       "      <td>NaN</td>\n",
       "      <td>NaN</td>\n",
       "      <td>NaN</td>\n",
       "      <td>NaN</td>\n",
       "      <td>NaN</td>\n",
       "      <td>NaN</td>\n",
       "      <td>NaN</td>\n",
       "      <td>NaN</td>\n",
       "      <td>NaN</td>\n",
       "      <td>NaN</td>\n",
       "      <td>NaN</td>\n",
       "      <td>NaN</td>\n",
       "      <td>NaN</td>\n",
       "      <td>Absence</td>\n",
       "    </tr>\n",
       "    <tr>\n",
       "      <th>freq</th>\n",
       "      <td>NaN</td>\n",
       "      <td>NaN</td>\n",
       "      <td>NaN</td>\n",
       "      <td>NaN</td>\n",
       "      <td>NaN</td>\n",
       "      <td>NaN</td>\n",
       "      <td>NaN</td>\n",
       "      <td>NaN</td>\n",
       "      <td>NaN</td>\n",
       "      <td>NaN</td>\n",
       "      <td>NaN</td>\n",
       "      <td>NaN</td>\n",
       "      <td>NaN</td>\n",
       "      <td>150</td>\n",
       "    </tr>\n",
       "    <tr>\n",
       "      <th>mean</th>\n",
       "      <td>54.433333</td>\n",
       "      <td>0.677778</td>\n",
       "      <td>3.174074</td>\n",
       "      <td>131.344444</td>\n",
       "      <td>249.659259</td>\n",
       "      <td>0.148148</td>\n",
       "      <td>1.022222</td>\n",
       "      <td>149.677778</td>\n",
       "      <td>0.329630</td>\n",
       "      <td>1.05000</td>\n",
       "      <td>1.585185</td>\n",
       "      <td>0.670370</td>\n",
       "      <td>4.696296</td>\n",
       "      <td>NaN</td>\n",
       "    </tr>\n",
       "    <tr>\n",
       "      <th>std</th>\n",
       "      <td>9.109067</td>\n",
       "      <td>0.468195</td>\n",
       "      <td>0.950090</td>\n",
       "      <td>17.861608</td>\n",
       "      <td>51.686237</td>\n",
       "      <td>0.355906</td>\n",
       "      <td>0.997891</td>\n",
       "      <td>23.165717</td>\n",
       "      <td>0.470952</td>\n",
       "      <td>1.14521</td>\n",
       "      <td>0.614390</td>\n",
       "      <td>0.943896</td>\n",
       "      <td>1.940659</td>\n",
       "      <td>NaN</td>\n",
       "    </tr>\n",
       "    <tr>\n",
       "      <th>min</th>\n",
       "      <td>29.000000</td>\n",
       "      <td>0.000000</td>\n",
       "      <td>1.000000</td>\n",
       "      <td>94.000000</td>\n",
       "      <td>126.000000</td>\n",
       "      <td>0.000000</td>\n",
       "      <td>0.000000</td>\n",
       "      <td>71.000000</td>\n",
       "      <td>0.000000</td>\n",
       "      <td>0.00000</td>\n",
       "      <td>1.000000</td>\n",
       "      <td>0.000000</td>\n",
       "      <td>3.000000</td>\n",
       "      <td>NaN</td>\n",
       "    </tr>\n",
       "    <tr>\n",
       "      <th>25%</th>\n",
       "      <td>48.000000</td>\n",
       "      <td>0.000000</td>\n",
       "      <td>3.000000</td>\n",
       "      <td>120.000000</td>\n",
       "      <td>213.000000</td>\n",
       "      <td>0.000000</td>\n",
       "      <td>0.000000</td>\n",
       "      <td>133.000000</td>\n",
       "      <td>0.000000</td>\n",
       "      <td>0.00000</td>\n",
       "      <td>1.000000</td>\n",
       "      <td>0.000000</td>\n",
       "      <td>3.000000</td>\n",
       "      <td>NaN</td>\n",
       "    </tr>\n",
       "    <tr>\n",
       "      <th>50%</th>\n",
       "      <td>55.000000</td>\n",
       "      <td>1.000000</td>\n",
       "      <td>3.000000</td>\n",
       "      <td>130.000000</td>\n",
       "      <td>245.000000</td>\n",
       "      <td>0.000000</td>\n",
       "      <td>2.000000</td>\n",
       "      <td>153.500000</td>\n",
       "      <td>0.000000</td>\n",
       "      <td>0.80000</td>\n",
       "      <td>2.000000</td>\n",
       "      <td>0.000000</td>\n",
       "      <td>3.000000</td>\n",
       "      <td>NaN</td>\n",
       "    </tr>\n",
       "    <tr>\n",
       "      <th>75%</th>\n",
       "      <td>61.000000</td>\n",
       "      <td>1.000000</td>\n",
       "      <td>4.000000</td>\n",
       "      <td>140.000000</td>\n",
       "      <td>280.000000</td>\n",
       "      <td>0.000000</td>\n",
       "      <td>2.000000</td>\n",
       "      <td>166.000000</td>\n",
       "      <td>1.000000</td>\n",
       "      <td>1.60000</td>\n",
       "      <td>2.000000</td>\n",
       "      <td>1.000000</td>\n",
       "      <td>7.000000</td>\n",
       "      <td>NaN</td>\n",
       "    </tr>\n",
       "    <tr>\n",
       "      <th>max</th>\n",
       "      <td>77.000000</td>\n",
       "      <td>1.000000</td>\n",
       "      <td>4.000000</td>\n",
       "      <td>200.000000</td>\n",
       "      <td>564.000000</td>\n",
       "      <td>1.000000</td>\n",
       "      <td>2.000000</td>\n",
       "      <td>202.000000</td>\n",
       "      <td>1.000000</td>\n",
       "      <td>6.20000</td>\n",
       "      <td>3.000000</td>\n",
       "      <td>3.000000</td>\n",
       "      <td>7.000000</td>\n",
       "      <td>NaN</td>\n",
       "    </tr>\n",
       "  </tbody>\n",
       "</table>\n",
       "</div>"
      ],
      "text/plain": [
       "               Age         Sex  Chest pain type          BP  Cholesterol  \\\n",
       "count   270.000000  270.000000       270.000000  270.000000   270.000000   \n",
       "unique         NaN         NaN              NaN         NaN          NaN   \n",
       "top            NaN         NaN              NaN         NaN          NaN   \n",
       "freq           NaN         NaN              NaN         NaN          NaN   \n",
       "mean     54.433333    0.677778         3.174074  131.344444   249.659259   \n",
       "std       9.109067    0.468195         0.950090   17.861608    51.686237   \n",
       "min      29.000000    0.000000         1.000000   94.000000   126.000000   \n",
       "25%      48.000000    0.000000         3.000000  120.000000   213.000000   \n",
       "50%      55.000000    1.000000         3.000000  130.000000   245.000000   \n",
       "75%      61.000000    1.000000         4.000000  140.000000   280.000000   \n",
       "max      77.000000    1.000000         4.000000  200.000000   564.000000   \n",
       "\n",
       "        FBS over 120  EKG results      Max HR  Exercise angina  ST depression  \\\n",
       "count     270.000000   270.000000  270.000000       270.000000      270.00000   \n",
       "unique           NaN          NaN         NaN              NaN            NaN   \n",
       "top              NaN          NaN         NaN              NaN            NaN   \n",
       "freq             NaN          NaN         NaN              NaN            NaN   \n",
       "mean        0.148148     1.022222  149.677778         0.329630        1.05000   \n",
       "std         0.355906     0.997891   23.165717         0.470952        1.14521   \n",
       "min         0.000000     0.000000   71.000000         0.000000        0.00000   \n",
       "25%         0.000000     0.000000  133.000000         0.000000        0.00000   \n",
       "50%         0.000000     2.000000  153.500000         0.000000        0.80000   \n",
       "75%         0.000000     2.000000  166.000000         1.000000        1.60000   \n",
       "max         1.000000     2.000000  202.000000         1.000000        6.20000   \n",
       "\n",
       "        Slope of ST  Number of vessels fluro    Thallium Heart Disease  \n",
       "count    270.000000               270.000000  270.000000           270  \n",
       "unique          NaN                      NaN         NaN             2  \n",
       "top             NaN                      NaN         NaN       Absence  \n",
       "freq            NaN                      NaN         NaN           150  \n",
       "mean       1.585185                 0.670370    4.696296           NaN  \n",
       "std        0.614390                 0.943896    1.940659           NaN  \n",
       "min        1.000000                 0.000000    3.000000           NaN  \n",
       "25%        1.000000                 0.000000    3.000000           NaN  \n",
       "50%        2.000000                 0.000000    3.000000           NaN  \n",
       "75%        2.000000                 1.000000    7.000000           NaN  \n",
       "max        3.000000                 3.000000    7.000000           NaN  "
      ]
     },
     "execution_count": 6,
     "metadata": {},
     "output_type": "execute_result"
    }
   ],
   "source": [
    "data.describe(include = 'all')"
   ]
  },
  {
   "cell_type": "code",
   "execution_count": 7,
   "id": "2778aa07",
   "metadata": {
    "execution": {
     "iopub.execute_input": "2022-09-06T21:02:03.830672Z",
     "iopub.status.busy": "2022-09-06T21:02:03.830184Z",
     "iopub.status.idle": "2022-09-06T21:02:03.841977Z",
     "shell.execute_reply": "2022-09-06T21:02:03.840735Z"
    },
    "papermill": {
     "duration": 0.024754,
     "end_time": "2022-09-06T21:02:03.844844",
     "exception": false,
     "start_time": "2022-09-06T21:02:03.820090",
     "status": "completed"
    },
    "tags": []
   },
   "outputs": [
    {
     "data": {
      "text/plain": [
       "Age                        0\n",
       "Sex                        0\n",
       "Chest pain type            0\n",
       "BP                         0\n",
       "Cholesterol                0\n",
       "FBS over 120               0\n",
       "EKG results                0\n",
       "Max HR                     0\n",
       "Exercise angina            0\n",
       "ST depression              0\n",
       "Slope of ST                0\n",
       "Number of vessels fluro    0\n",
       "Thallium                   0\n",
       "Heart Disease              0\n",
       "dtype: int64"
      ]
     },
     "execution_count": 7,
     "metadata": {},
     "output_type": "execute_result"
    }
   ],
   "source": [
    "data.isnull().sum()"
   ]
  },
  {
   "cell_type": "code",
   "execution_count": 8,
   "id": "a8936999",
   "metadata": {
    "execution": {
     "iopub.execute_input": "2022-09-06T21:02:03.867205Z",
     "iopub.status.busy": "2022-09-06T21:02:03.866106Z",
     "iopub.status.idle": "2022-09-06T21:02:03.880196Z",
     "shell.execute_reply": "2022-09-06T21:02:03.878608Z"
    },
    "papermill": {
     "duration": 0.028366,
     "end_time": "2022-09-06T21:02:03.882869",
     "exception": false,
     "start_time": "2022-09-06T21:02:03.854503",
     "status": "completed"
    },
    "tags": []
   },
   "outputs": [
    {
     "data": {
      "text/plain": [
       "Age                         41\n",
       "Sex                          2\n",
       "Chest pain type              4\n",
       "BP                          47\n",
       "Cholesterol                144\n",
       "FBS over 120                 2\n",
       "EKG results                  3\n",
       "Max HR                      90\n",
       "Exercise angina              2\n",
       "ST depression               39\n",
       "Slope of ST                  3\n",
       "Number of vessels fluro      4\n",
       "Thallium                     3\n",
       "Heart Disease                2\n",
       "dtype: int64"
      ]
     },
     "execution_count": 8,
     "metadata": {},
     "output_type": "execute_result"
    }
   ],
   "source": [
    "data.nunique()"
   ]
  },
  {
   "cell_type": "markdown",
   "id": "531bd17d",
   "metadata": {
    "papermill": {
     "duration": 0.008343,
     "end_time": "2022-09-06T21:02:03.899940",
     "exception": false,
     "start_time": "2022-09-06T21:02:03.891597",
     "status": "completed"
    },
    "tags": []
   },
   "source": [
    "# Data Visualization"
   ]
  },
  {
   "cell_type": "code",
   "execution_count": 9,
   "id": "e7fa75fa",
   "metadata": {
    "execution": {
     "iopub.execute_input": "2022-09-06T21:02:03.920370Z",
     "iopub.status.busy": "2022-09-06T21:02:03.918629Z",
     "iopub.status.idle": "2022-09-06T21:02:03.927920Z",
     "shell.execute_reply": "2022-09-06T21:02:03.926819Z"
    },
    "papermill": {
     "duration": 0.021998,
     "end_time": "2022-09-06T21:02:03.930423",
     "exception": false,
     "start_time": "2022-09-06T21:02:03.908425",
     "status": "completed"
    },
    "tags": []
   },
   "outputs": [
    {
     "data": {
      "text/plain": [
       "Index(['Age', 'Sex', 'Chest pain type', 'BP', 'Cholesterol', 'FBS over 120',\n",
       "       'EKG results', 'Max HR', 'Exercise angina', 'ST depression',\n",
       "       'Slope of ST', 'Number of vessels fluro', 'Thallium', 'Heart Disease'],\n",
       "      dtype='object')"
      ]
     },
     "execution_count": 9,
     "metadata": {},
     "output_type": "execute_result"
    }
   ],
   "source": [
    "data.columns"
   ]
  },
  {
   "cell_type": "code",
   "execution_count": 10,
   "id": "91c8ee71",
   "metadata": {
    "execution": {
     "iopub.execute_input": "2022-09-06T21:02:03.952006Z",
     "iopub.status.busy": "2022-09-06T21:02:03.951245Z",
     "iopub.status.idle": "2022-09-06T21:02:03.956975Z",
     "shell.execute_reply": "2022-09-06T21:02:03.955383Z"
    },
    "papermill": {
     "duration": 0.019669,
     "end_time": "2022-09-06T21:02:03.960166",
     "exception": false,
     "start_time": "2022-09-06T21:02:03.940497",
     "status": "completed"
    },
    "tags": []
   },
   "outputs": [],
   "source": [
    "colm = ['Sex', 'Chest pain type','FBS over 120','EKG results','Exercise angina','Slope of ST', 'Number of vessels fluro', 'Thallium', 'Heart Disease']"
   ]
  },
  {
   "cell_type": "code",
   "execution_count": 11,
   "id": "8b92f981",
   "metadata": {
    "execution": {
     "iopub.execute_input": "2022-09-06T21:02:03.981156Z",
     "iopub.status.busy": "2022-09-06T21:02:03.980681Z",
     "iopub.status.idle": "2022-09-06T21:02:05.783533Z",
     "shell.execute_reply": "2022-09-06T21:02:05.781861Z"
    },
    "papermill": {
     "duration": 1.817225,
     "end_time": "2022-09-06T21:02:05.786430",
     "exception": false,
     "start_time": "2022-09-06T21:02:03.969205",
     "status": "completed"
    },
    "tags": []
   },
   "outputs": [
    {
     "data": {
      "image/png": "[encoded data removed]",
      "text/plain": [
       "<Figure size 432x288 with 1 Axes>"
      ]
     },
     "metadata": {},
     "output_type": "display_data"
    },
    {
     "data": {
      "image/png": "[encoded data removed]",
      "text/plain": [
       "<Figure size 432x288 with 1 Axes>"
      ]
     },
     "metadata": {},
     "output_type": "display_data"
    },
    {
     "data": {
      "image/png": "[encoded data removed]",
      "text/plain": [
       "<Figure size 432x288 with 1 Axes>"
      ]
     },
     "metadata": {},
     "output_type": "display_data"
    },
    {
     "data": {
      "image/png": "[encoded data removed]",
      "text/plain": [
       "<Figure size 432x288 with 1 Axes>"
      ]
     },
     "metadata": {},
     "output_type": "display_data"
    },
    {
     "data": {
      "image/png": "[encoded data removed]",
      "text/plain": [
       "<Figure size 432x288 with 1 Axes>"
      ]
     },
     "metadata": {},
     "output_type": "display_data"
    },
    {
     "data": {
      "image/png": "[encoded data removed]",
      "text/plain": [
       "<Figure size 432x288 with 1 Axes>"
      ]
     },
     "metadata": {},
     "output_type": "display_data"
    },
    {
     "data": {
      "image/png": "[encoded data removed]",
      "text/plain": [
       "<Figure size 432x288 with 1 Axes>"
      ]
     },
     "metadata": {},
     "output_type": "display_data"
    },
    {
     "data": {
      "image/png": "[encoded data removed]",
      "text/plain": [
       "<Figure size 432x288 with 1 Axes>"
      ]
     },
     "metadata": {},
     "output_type": "display_data"
    },
    {
     "data": {
      "image/png": "[encoded data removed]",
      "text/plain": [
       "<Figure size 432x288 with 1 Axes>"
      ]
     },
     "metadata": {},
     "output_type": "display_data"
    }
   ],
   "source": [
    "for col in colm:\n",
    "  sns.countplot(data[col])\n",
    "  plt.show()"
   ]
  },
  {
   "cell_type": "code",
   "execution_count": 12,
   "id": "b5c4ca26",
   "metadata": {
    "execution": {
     "iopub.execute_input": "2022-09-06T21:02:05.810953Z",
     "iopub.status.busy": "2022-09-06T21:02:05.810453Z",
     "iopub.status.idle": "2022-09-06T21:02:07.123265Z",
     "shell.execute_reply": "2022-09-06T21:02:07.122226Z"
    },
    "papermill": {
     "duration": 1.328583,
     "end_time": "2022-09-06T21:02:07.126242",
     "exception": false,
     "start_time": "2022-09-06T21:02:05.797659",
     "status": "completed"
    },
    "tags": []
   },
   "outputs": [
    {
     "data": {
      "text/plain": [
       "<AxesSubplot:>"
      ]
     },
     "execution_count": 12,
     "metadata": {},
     "output_type": "execute_result"
    },
    {
     "data": {
      "image/png": "[encoded data removed]",
      "text/plain": [
       "<Figure size 864x720 with 2 Axes>"
      ]
     },
     "metadata": {},
     "output_type": "display_data"
    }
   ],
   "source": [
    "plt.figure(figsize=(12,10))\n",
    "corr = data.corr()\n",
    "sns.heatmap(corr, annot = True, linewidths= 0.2, linecolor= 'black', cmap = 'afmhot')"
   ]
  },
  {
   "cell_type": "markdown",
   "id": "166fb694",
   "metadata": {
    "papermill": {
     "duration": 0.01374,
     "end_time": "2022-09-06T21:02:07.153064",
     "exception": false,
     "start_time": "2022-09-06T21:02:07.139324",
     "status": "completed"
    },
    "tags": []
   },
   "source": [
    "# Data Split and Scaling"
   ]
  },
  {
   "cell_type": "code",
   "execution_count": 13,
   "id": "e4d93429",
   "metadata": {
    "execution": {
     "iopub.execute_input": "2022-09-06T21:02:07.180698Z",
     "iopub.status.busy": "2022-09-06T21:02:07.180195Z",
     "iopub.status.idle": "2022-09-06T21:02:07.190226Z",
     "shell.execute_reply": "2022-09-06T21:02:07.189123Z"
    },
    "papermill": {
     "duration": 0.026812,
     "end_time": "2022-09-06T21:02:07.192458",
     "exception": false,
     "start_time": "2022-09-06T21:02:07.165646",
     "status": "completed"
    },
    "tags": []
   },
   "outputs": [
    {
     "data": {
      "text/plain": [
       "Index(['Age', 'Sex', 'Chest pain type', 'BP', 'Cholesterol', 'FBS over 120',\n",
       "       'EKG results', 'Max HR', 'Exercise angina', 'ST depression',\n",
       "       'Slope of ST', 'Number of vessels fluro', 'Thallium', 'Heart Disease'],\n",
       "      dtype='object')"
      ]
     },
     "execution_count": 13,
     "metadata": {},
     "output_type": "execute_result"
    }
   ],
   "source": [
    "data.columns"
   ]
  },
  {
   "cell_type": "code",
   "execution_count": 14,
   "id": "1bf01f42",
   "metadata": {
    "execution": {
     "iopub.execute_input": "2022-09-06T21:02:07.221102Z",
     "iopub.status.busy": "2022-09-06T21:02:07.220023Z",
     "iopub.status.idle": "2022-09-06T21:02:07.230451Z",
     "shell.execute_reply": "2022-09-06T21:02:07.229367Z"
    },
    "papermill": {
     "duration": 0.027599,
     "end_time": "2022-09-06T21:02:07.232930",
     "exception": false,
     "start_time": "2022-09-06T21:02:07.205331",
     "status": "completed"
    },
    "tags": []
   },
   "outputs": [],
   "source": [
    "X = data[['Age', 'Sex', 'Chest pain type', 'BP', 'Cholesterol', 'FBS over 120',\n",
    "       'EKG results', 'Max HR', 'Exercise angina', 'ST depression',\n",
    "       'Slope of ST', 'Number of vessels fluro', 'Thallium']]\n",
    "y = data['Heart Disease']"
   ]
  },
  {
   "cell_type": "code",
   "execution_count": 15,
   "id": "9dab6458",
   "metadata": {
    "execution": {
     "iopub.execute_input": "2022-09-06T21:02:07.261481Z",
     "iopub.status.busy": "2022-09-06T21:02:07.260727Z",
     "iopub.status.idle": "2022-09-06T21:02:07.268092Z",
     "shell.execute_reply": "2022-09-06T21:02:07.266458Z"
    },
    "papermill": {
     "duration": 0.024261,
     "end_time": "2022-09-06T21:02:07.270544",
     "exception": false,
     "start_time": "2022-09-06T21:02:07.246283",
     "status": "completed"
    },
    "tags": []
   },
   "outputs": [
    {
     "name": "stdout",
     "output_type": "stream",
     "text": [
      "(270, 13) (270,)\n"
     ]
    }
   ],
   "source": [
    "print(X.shape,y.shape)"
   ]
  },
  {
   "cell_type": "code",
   "execution_count": 16,
   "id": "6e6f6389",
   "metadata": {
    "execution": {
     "iopub.execute_input": "2022-09-06T21:02:07.298001Z",
     "iopub.status.busy": "2022-09-06T21:02:07.297512Z",
     "iopub.status.idle": "2022-09-06T21:02:07.305063Z",
     "shell.execute_reply": "2022-09-06T21:02:07.303963Z"
    },
    "papermill": {
     "duration": 0.024583,
     "end_time": "2022-09-06T21:02:07.307627",
     "exception": false,
     "start_time": "2022-09-06T21:02:07.283044",
     "status": "completed"
    },
    "tags": []
   },
   "outputs": [],
   "source": [
    "X_train, X_test, y_train, y_test = train_test_split(X, y, test_size=0.4, random_state=42529)"
   ]
  },
  {
   "cell_type": "code",
   "execution_count": 17,
   "id": "c727f8af",
   "metadata": {
    "execution": {
     "iopub.execute_input": "2022-09-06T21:02:07.335715Z",
     "iopub.status.busy": "2022-09-06T21:02:07.334491Z",
     "iopub.status.idle": "2022-09-06T21:02:07.342553Z",
     "shell.execute_reply": "2022-09-06T21:02:07.341435Z"
    },
    "papermill": {
     "duration": 0.024765,
     "end_time": "2022-09-06T21:02:07.344971",
     "exception": false,
     "start_time": "2022-09-06T21:02:07.320206",
     "status": "completed"
    },
    "tags": []
   },
   "outputs": [
    {
     "data": {
      "text/plain": [
       "((162, 13), (108, 13), (162,), (108,))"
      ]
     },
     "execution_count": 17,
     "metadata": {},
     "output_type": "execute_result"
    }
   ],
   "source": [
    "X_train.shape, X_test.shape, y_train.shape, y_test.shape"
   ]
  },
  {
   "cell_type": "markdown",
   "id": "6640a245",
   "metadata": {
    "papermill": {
     "duration": 0.012301,
     "end_time": "2022-09-06T21:02:07.369825",
     "exception": false,
     "start_time": "2022-09-06T21:02:07.357524",
     "status": "completed"
    },
    "tags": []
   },
   "source": [
    "**Converting y_train and y_test categories to 0's and 1's by replacing**"
   ]
  },
  {
   "cell_type": "code",
   "execution_count": 18,
   "id": "171d8a1e",
   "metadata": {
    "execution": {
     "iopub.execute_input": "2022-09-06T21:02:07.398035Z",
     "iopub.status.busy": "2022-09-06T21:02:07.396658Z",
     "iopub.status.idle": "2022-09-06T21:02:07.404423Z",
     "shell.execute_reply": "2022-09-06T21:02:07.403342Z"
    },
    "papermill": {
     "duration": 0.024591,
     "end_time": "2022-09-06T21:02:07.406979",
     "exception": false,
     "start_time": "2022-09-06T21:02:07.382388",
     "status": "completed"
    },
    "tags": []
   },
   "outputs": [],
   "source": [
    "train_convert = {\"Absence\":0,\"Presence\":1}\n",
    "y_train = y_train.replace(train_convert)"
   ]
  },
  {
   "cell_type": "code",
   "execution_count": 19,
   "id": "0d4dcc84",
   "metadata": {
    "execution": {
     "iopub.execute_input": "2022-09-06T21:02:07.434865Z",
     "iopub.status.busy": "2022-09-06T21:02:07.433952Z",
     "iopub.status.idle": "2022-09-06T21:02:07.440616Z",
     "shell.execute_reply": "2022-09-06T21:02:07.439559Z"
    },
    "papermill": {
     "duration": 0.023836,
     "end_time": "2022-09-06T21:02:07.443228",
     "exception": false,
     "start_time": "2022-09-06T21:02:07.419392",
     "status": "completed"
    },
    "tags": []
   },
   "outputs": [],
   "source": [
    "test_convert = {\"Absence\":0,\"Presence\":1}\n",
    "y_test = y_test.replace(test_convert)"
   ]
  },
  {
   "cell_type": "code",
   "execution_count": 20,
   "id": "dc8046e0",
   "metadata": {
    "execution": {
     "iopub.execute_input": "2022-09-06T21:02:07.472046Z",
     "iopub.status.busy": "2022-09-06T21:02:07.471180Z",
     "iopub.status.idle": "2022-09-06T21:02:07.484545Z",
     "shell.execute_reply": "2022-09-06T21:02:07.483251Z"
    },
    "papermill": {
     "duration": 0.03104,
     "end_time": "2022-09-06T21:02:07.487306",
     "exception": false,
     "start_time": "2022-09-06T21:02:07.456266",
     "status": "completed"
    },
    "tags": []
   },
   "outputs": [],
   "source": [
    "mms = MinMaxScaler()\n",
    "X_train = mms.fit_transform(X_train)\n",
    "X_test = mms.fit_transform(X_test)"
   ]
  },
  {
   "cell_type": "markdown",
   "id": "4a4bcedf",
   "metadata": {
    "papermill": {
     "duration": 0.012274,
     "end_time": "2022-09-06T21:02:07.512090",
     "exception": false,
     "start_time": "2022-09-06T21:02:07.499816",
     "status": "completed"
    },
    "tags": []
   },
   "source": [
    "# Random Forest"
   ]
  },
  {
   "cell_type": "code",
   "execution_count": 21,
   "id": "c8f4f786",
   "metadata": {
    "execution": {
     "iopub.execute_input": "2022-09-06T21:02:07.539875Z",
     "iopub.status.busy": "2022-09-06T21:02:07.539003Z",
     "iopub.status.idle": "2022-09-06T21:02:07.699684Z",
     "shell.execute_reply": "2022-09-06T21:02:07.697937Z"
    },
    "papermill": {
     "duration": 0.177825,
     "end_time": "2022-09-06T21:02:07.702395",
     "exception": false,
     "start_time": "2022-09-06T21:02:07.524570",
     "status": "completed"
    },
    "tags": []
   },
   "outputs": [
    {
     "data": {
      "text/plain": [
       "RandomForestClassifier()"
      ]
     },
     "execution_count": 21,
     "metadata": {},
     "output_type": "execute_result"
    }
   ],
   "source": [
    "rf = RandomForestClassifier()\n",
    "rf.fit(X_train,y_train)"
   ]
  },
  {
   "cell_type": "code",
   "execution_count": 22,
   "id": "badb357d",
   "metadata": {
    "execution": {
     "iopub.execute_input": "2022-09-06T21:02:07.730753Z",
     "iopub.status.busy": "2022-09-06T21:02:07.729725Z",
     "iopub.status.idle": "2022-09-06T21:02:07.752606Z",
     "shell.execute_reply": "2022-09-06T21:02:07.751004Z"
    },
    "papermill": {
     "duration": 0.040552,
     "end_time": "2022-09-06T21:02:07.755658",
     "exception": false,
     "start_time": "2022-09-06T21:02:07.715106",
     "status": "completed"
    },
    "tags": []
   },
   "outputs": [],
   "source": [
    "pred = rf.predict(X_test)"
   ]
  },
  {
   "cell_type": "markdown",
   "id": "571f365e",
   "metadata": {
    "papermill": {
     "duration": 0.0126,
     "end_time": "2022-09-06T21:02:07.781076",
     "exception": false,
     "start_time": "2022-09-06T21:02:07.768476",
     "status": "completed"
    },
    "tags": []
   },
   "source": [
    "# Results"
   ]
  },
  {
   "cell_type": "code",
   "execution_count": 23,
   "id": "ee876c7e",
   "metadata": {
    "execution": {
     "iopub.execute_input": "2022-09-06T21:02:07.809078Z",
     "iopub.status.busy": "2022-09-06T21:02:07.808561Z",
     "iopub.status.idle": "2022-09-06T21:02:07.823101Z",
     "shell.execute_reply": "2022-09-06T21:02:07.821769Z"
    },
    "papermill": {
     "duration": 0.032133,
     "end_time": "2022-09-06T21:02:07.825776",
     "exception": false,
     "start_time": "2022-09-06T21:02:07.793643",
     "status": "completed"
    },
    "tags": []
   },
   "outputs": [
    {
     "name": "stdout",
     "output_type": "stream",
     "text": [
      "              precision    recall  f1-score   support\n",
      "\n",
      "           0       0.83      0.79      0.81        56\n",
      "           1       0.78      0.83      0.80        52\n",
      "\n",
      "    accuracy                           0.81       108\n",
      "   macro avg       0.81      0.81      0.81       108\n",
      "weighted avg       0.81      0.81      0.81       108\n",
      "\n"
     ]
    }
   ],
   "source": [
    "cm = confusion_matrix(y_test,pred)\n",
    "print(classification_report(y_test,pred))"
   ]
  },
  {
   "cell_type": "code",
   "execution_count": 24,
   "id": "7fffc8a9",
   "metadata": {
    "execution": {
     "iopub.execute_input": "2022-09-06T21:02:07.853970Z",
     "iopub.status.busy": "2022-09-06T21:02:07.853258Z",
     "iopub.status.idle": "2022-09-06T21:02:08.051563Z",
     "shell.execute_reply": "2022-09-06T21:02:08.049995Z"
    },
    "papermill": {
     "duration": 0.215991,
     "end_time": "2022-09-06T21:02:08.054493",
     "exception": false,
     "start_time": "2022-09-06T21:02:07.838502",
     "status": "completed"
    },
    "tags": []
   },
   "outputs": [
    {
     "data": {
      "text/plain": [
       "Text(0.5, 15.0, 'Predicted Values')"
      ]
     },
     "execution_count": 24,
     "metadata": {},
     "output_type": "execute_result"
    },
    {
     "data": {
      "image/png": "[encoded data removed]",
      "text/plain": [
       "<Figure size 432x288 with 1 Axes>"
      ]
     },
     "metadata": {},
     "output_type": "display_data"
    }
   ],
   "source": [
    "sns.heatmap(cm, annot = True, fmt = 'g', cbar = False, cmap = 'icefire', linewidths= 0.5, linecolor= 'grey')\n",
    "plt.title('Confusion Matrix')\n",
    "plt.ylabel('Actal Values')\n",
    "plt.xlabel('Predicted Values')"
   ]
  },
  {
   "cell_type": "code",
   "execution_count": 25,
   "id": "261cc54d",
   "metadata": {
    "execution": {
     "iopub.execute_input": "2022-09-06T21:02:08.085070Z",
     "iopub.status.busy": "2022-09-06T21:02:08.084509Z",
     "iopub.status.idle": "2022-09-06T21:02:08.093847Z",
     "shell.execute_reply": "2022-09-06T21:02:08.092021Z"
    },
    "papermill": {
     "duration": 0.029196,
     "end_time": "2022-09-06T21:02:08.097822",
     "exception": false,
     "start_time": "2022-09-06T21:02:08.068626",
     "status": "completed"
    },
    "tags": []
   },
   "outputs": [
    {
     "name": "stdout",
     "output_type": "stream",
     "text": [
      "Accuracy Score = 0.80556\n"
     ]
    }
   ],
   "source": [
    "print(\"Accuracy Score = {}\".format(round(accuracy_score(y_test,pred),5)))"
   ]
  }
 ],
 "metadata": {
  "kernelspec": {
   "display_name": "Python 3",
   "language": "python",
   "name": "python3"
  },
  "language_info": {
   "codemirror_mode": {
    "name": "ipython",
    "version": 3
   },
   "file_extension": ".py",
   "mimetype": "text/x-python",
   "name": "python",
   "nbconvert_exporter": "python",
   "pygments_lexer": "ipython3",
   "version": "3.7.12"
  },
  "papermill": {
   "default_parameters": {},
   "duration": 19.410278,
   "end_time": "2022-09-06T21:02:09.237901",
   "environment_variables": {},
   "exception": null,
   "input_path": "__notebook__.ipynb",
   "output_path": "__notebook__.ipynb",
   "parameters": {},
   "start_time": "2022-09-06T21:01:49.827623",
   "version": "2.3.4"
  }
 },
 "nbformat": 4,
 "nbformat_minor": 5
}
